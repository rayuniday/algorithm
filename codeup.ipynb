{
 "cells": [
  {
   "cell_type": "code",
   "execution_count": 5,
   "metadata": {},
   "outputs": [
    {
     "name": "stdout",
     "output_type": "stream",
     "text": [
      "Hello\n"
     ]
    }
   ],
   "source": [
    "# 6001 : [기초 - 출력] 출력하기 01\n",
    "# python 언어에서 가장 기본적인 명령이 출력문이다. print()를 이용해 다음 단어를 출력하시오.\n",
    "\n",
    "# Hello\n",
    "\n",
    "print('Hello')"
   ]
  },
  {
   "cell_type": "code",
   "execution_count": 6,
   "metadata": {},
   "outputs": [
    {
     "name": "stdout",
     "output_type": "stream",
     "text": [
      "Hello World\n"
     ]
    }
   ],
   "source": [
    "# 6002 : [기초 - 출력] 출력하기 02\n",
    "# 공백()을 포함한 문장을 출력한다. 다음 문장을 출력해보자.\n",
    "\n",
    "# Hello World (대소문자에 주의한다.)\n",
    "\n",
    "print('Hello World')"
   ]
  },
  {
   "cell_type": "code",
   "execution_count": 10,
   "metadata": {},
   "outputs": [
    {
     "name": "stdout",
     "output_type": "stream",
     "text": [
      "Hello\n",
      "World\n"
     ]
    }
   ],
   "source": [
    "# 6003 : [기초 - 출력] 출력하기 03\n",
    "# 줄을 바꿔 출력하는 출력문을 연습해보자.\n",
    "# 다음과 같이 줄을 바꿔 출력해야 한다.\n",
    "\n",
    "# Hello\n",
    "# World\n",
    "# (두 줄에 걸쳐 줄을 바꿔 출력)\n",
    "\n",
    "print('Hello')\n",
    "print('World')\n"
   ]
  },
  {
   "cell_type": "code",
   "execution_count": 11,
   "metadata": {},
   "outputs": [
    {
     "name": "stdout",
     "output_type": "stream",
     "text": [
      "'Hello'\n"
     ]
    }
   ],
   "source": [
    "# 6004 : [기초 - 출력] 출력하기 04\n",
    "# 작은 따옴표(')(single quotation mark)가 들어있는 출력문 연습을 해보자.\n",
    "# 다음 문장을 출력하시오.\n",
    "\n",
    "# 'Hello'\n",
    "\n",
    "print(\"'Hello'\")"
   ]
  },
  {
   "cell_type": "code",
   "execution_count": 13,
   "metadata": {},
   "outputs": [
    {
     "name": "stdout",
     "output_type": "stream",
     "text": [
      "\"Hello World\"\n"
     ]
    }
   ],
   "source": [
    "# 6005 : [기초 - 출력] 출력하기 05\n",
    "# 큰따옴표(\")(double quotation mark)가 포함된 출력문을 연습해보자.\n",
    "# 다음 문장을 출력하시오.\n",
    "\n",
    "# \"Hello World\"\n",
    "# (단, 큰따옴표도 함께 출력한다.)\n",
    "\n",
    "print('\"Hello World\"')"
   ]
  },
  {
   "cell_type": "code",
   "execution_count": 14,
   "metadata": {},
   "outputs": [
    {
     "name": "stdout",
     "output_type": "stream",
     "text": [
      "\"!@#$%^&*()'\n"
     ]
    }
   ],
   "source": [
    "# 6006 : [기초 - 출력] 출력하기 06\n",
    "# 특수문자 출력에 도전하자!\n",
    "# 다음 문장을 출력하시오.\n",
    "\n",
    "# \"!@#$%^&*()'\n",
    "# (단, 큰따옴표와 작은따옴표도 함께 출력한다.)\n",
    "\n",
    "print('\"!@#$%^&*()\\'')"
   ]
  },
  {
   "cell_type": "code",
   "execution_count": 15,
   "metadata": {},
   "outputs": [
    {
     "name": "stdout",
     "output_type": "stream",
     "text": [
      "\"C:\\Download\\'hello'.py\"\n"
     ]
    }
   ],
   "source": [
    "# 6007 : [기초 - 출력] 출력하기 07\n",
    "# 윈도우 운영체제의 파일 경로를 출력하는 연습을 해보자.\n",
    "# 파일 경로에는 특수문자들이 포함된다.\n",
    "# 다음 경로를 출력하시오.\n",
    "\n",
    "# \"C:\\Download\\'hello'.py\"\n",
    "# (단, 따옴표도 함께 출력한다.)\n",
    "\n",
    "print('\"C:\\\\Download\\\\\\'hello\\'.py\"')"
   ]
  },
  {
   "cell_type": "code",
   "execution_count": 16,
   "metadata": {},
   "outputs": [
    {
     "name": "stdout",
     "output_type": "stream",
     "text": [
      "print(\"Hello\\nWorld\")\n"
     ]
    }
   ],
   "source": [
    "# 6008 : [기초 - 출력] 출력하기 08\n",
    "# 다음과 같은 python 프로그램의 소스코드를 출력해보자.\n",
    "\n",
    "# print(\"Hello\\nWorld\")\n",
    "# 위 코드를 정확히 그대로 출력하시오.(공백문자 주의)\n",
    "\n",
    "print('print(\"Hello\\\\nWorld\")')"
   ]
  },
  {
   "cell_type": "code",
   "execution_count": null,
   "metadata": {},
   "outputs": [],
   "source": [
    "# 6009 : [기초 - 입출력] 문자 1개 입력받아 그대로 출력하기\n",
    "# 문자(character)는 0-9, a-z, A-Z, !, @, #, {, [, <, ...과 같이 길이가 1인 기호라고 할 수 있다.\n",
    "# 변수에 문자 1개를 저장한 후 변수에 저장되어 있는 문자를 그대로 출력해보자.\n",
    "\n",
    "print(input())"
   ]
  },
  {
   "cell_type": "code",
   "execution_count": null,
   "metadata": {},
   "outputs": [],
   "source": [
    "# 6010 : [기초 - 입출력] 정수 1개를 입력받아 int로 변환하여 출력하기\n",
    "# 정수(integer)는 양의 정수(1, 2, 3, 4, 5, ...), 음의 정수(-1, -2, -3, -4, -5, ...), 0과 같이 소숫점 아래에 수가 없는 수라고 할 수 있다.\n",
    "# 변수에 정수값을 저장한 후 정수로 변환하여 출력해보자.\n",
    "\n",
    "print(input())"
   ]
  },
  {
   "cell_type": "code",
   "execution_count": null,
   "metadata": {},
   "outputs": [],
   "source": [
    "# 6011 : [기초 - 입출력] 실수 1개를 입력받아 변환하여 출력하기\n",
    "# 숫자(0-9)와 소수점(.)을 사용해 표현한 수를 실수(real number)라고 한다.\n",
    "# 변수에 실수값을 저장한 후 변수에 저장되어 있는 값을 그대로 출력해보자.\n",
    "\n",
    "print(float(input()))"
   ]
  },
  {
   "cell_type": "code",
   "execution_count": null,
   "metadata": {},
   "outputs": [],
   "source": [
    "# 6012 : [기초 - 입출력] 정수 2개 입력받아 그대로 출력하기 1\n",
    "# 줄을 바꿔 정수(integer) 2개를 입력받아 줄을 바꿔 출력해보자.\n",
    "\n",
    "a = input()\n",
    "b = input()\n",
    "print(a)\n",
    "print(b)"
   ]
  },
  {
   "cell_type": "code",
   "execution_count": null,
   "metadata": {},
   "outputs": [],
   "source": [
    "# 6013 : [기초 - 입출력] 문자 2개 입력받아 순서 바꿔 출력하기 1\n",
    "# 줄을 바꿔 문자(character) 2개를 입력받고, 순서를 바꿔 한 줄씩 출력해보자.\n",
    "\n",
    "a = input()\n",
    "b = input()\n",
    "print(b)\n",
    "print(a)"
   ]
  },
  {
   "cell_type": "code",
   "execution_count": null,
   "metadata": {},
   "outputs": [],
   "source": [
    "# 6014 : [기초 - 입출력] 실수 1개 입력받아 3번 출력하기\n",
    "# 실수(real number) 1개를 입력받아 줄을 바꿔 3번 출력해보자.\n",
    "\n",
    "a = input()\n",
    "print(a)\n",
    "print(a)\n",
    "print(a)"
   ]
  },
  {
   "cell_type": "code",
   "execution_count": null,
   "metadata": {},
   "outputs": [],
   "source": [
    "# 6015 : [기초 - 입출력] 정수 2개 입력받아 그대로 출력하기 2\n",
    "# 공백을 두고 입력된 정수(integer) 2개를 입력받아 줄을 바꿔 출력해보자.\n",
    "\n",
    "a, b = input().split()\n",
    "print(a)\n",
    "print(b)"
   ]
  },
  {
   "cell_type": "code",
   "execution_count": null,
   "metadata": {},
   "outputs": [],
   "source": [
    "# 6016 : [기초 - 입출력] 문자 2개 입력받아 순서 바꿔 출력하기 2\n",
    "# 공백을 두고 문자(character) 2개를 입력받아 순서를 바꿔 출력해보자.\n",
    "\n",
    "a, b = input().split()\n",
    "print(b, a)"
   ]
  },
  {
   "cell_type": "code",
   "execution_count": null,
   "metadata": {},
   "outputs": [],
   "source": [
    "# 6017 : [기초 - 입출력] 문장 1개 입력받아 3번 출력하기\n",
    "# 정수(integer), 실수, 문자(character), 문자열(string) 등 1개만 입력받아 한 줄로 3번 출력해보자.\n",
    "\n",
    "a = input()\n",
    "print(a, a, a)"
   ]
  },
  {
   "cell_type": "code",
   "execution_count": null,
   "metadata": {},
   "outputs": [],
   "source": [
    "# 6018 : [기초 - 입출력] 시간 입력받아 그대로 출력하기\n",
    "# 24시간 시:분 형식으로 시간이 입력될 때, 그대로 출력하는 연습을 해보자.\n",
    "\n",
    "print(input())"
   ]
  },
  {
   "cell_type": "code",
   "execution_count": null,
   "metadata": {},
   "outputs": [],
   "source": [
    "# 6019 : [기초 - 입출력] 연월일 입력받아 순서 바꿔 출력하기\n",
    "# \"연도.월.일\"을 입력받아 \"일-월-연도\" 순서로 바꿔 출력해보자.\n",
    "\n",
    "a, b, c = input().split(\".\")\n",
    "print(c, b, a, sep=\"-\")"
   ]
  },
  {
   "cell_type": "code",
   "execution_count": null,
   "metadata": {},
   "outputs": [],
   "source": [
    "# 6020 : [기초 - 입출력] 주민번호 입력받아 형태 바꿔 출력하기\n",
    "# 주민번호는 다음과 같이 구성된다.\n",
    "# XXXXXX-XXXXXXX\n",
    "# 왼족 6자리는 생년월일(YYMMDD)이고, 오른쪽 7자리는 성별, 출생지역, 확인코드로 구성되어 있다.\n",
    "# 주민번호를 입력받아 형태를 바꿔 출력해보자.\n",
    "\n",
    "# 입력\n",
    "# 주민번호 앞 6자리와 뒷 7자리가 '-'로 구분되어 입력된다.\n",
    "# (입력값은 가상의 주민번호이다.)\n",
    "\n",
    "# 출력\n",
    "# '-'를 제외한 주민번호 13자리를 모두 붙여 출력한다.\n",
    "\n",
    "a, b = input().split(\"-\")\n",
    "print(a + b)"
   ]
  }
 ],
 "metadata": {
  "interpreter": {
   "hash": "d28945736f35f125e74e38d51a2c11f332fcba0ad043d3c75c57b7048428233a"
  },
  "kernelspec": {
   "display_name": "Python 3.10.2 64-bit",
   "language": "python",
   "name": "python3"
  },
  "language_info": {
   "codemirror_mode": {
    "name": "ipython",
    "version": 3
   },
   "file_extension": ".py",
   "mimetype": "text/x-python",
   "name": "python",
   "nbconvert_exporter": "python",
   "pygments_lexer": "ipython3",
   "version": "3.10.2"
  },
  "orig_nbformat": 4
 },
 "nbformat": 4,
 "nbformat_minor": 2
}
