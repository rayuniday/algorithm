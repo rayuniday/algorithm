{
 "cells": [
  {
   "cell_type": "markdown",
   "metadata": {},
   "source": [
    "##### 출력"
   ]
  },
  {
   "cell_type": "code",
   "execution_count": 1,
   "metadata": {},
   "outputs": [
    {
     "name": "stdout",
     "output_type": "stream",
     "text": [
      "Fun Programming!\n"
     ]
    }
   ],
   "source": [
    "# 501 : 출력 - 자가진단 1\n",
    "# \"Fun Programming!\"와 같이 출력되는 프로그램을 작성하라.\n",
    "\n",
    "print('Fun Programming!')"
   ]
  },
  {
   "cell_type": "code",
   "execution_count": 2,
   "metadata": {},
   "outputs": [
    {
     "name": "stdout",
     "output_type": "stream",
     "text": [
      "Programming! It's Fun.\n"
     ]
    }
   ],
   "source": [
    "# 502 : 출력 - 자가진단 2\n",
    "# \"Programming! It's fun.\"과 같이 출력되는 프로그램을 작성하라.\n",
    "\n",
    "print(\"Programming! It's fun.\")"
   ]
  },
  {
   "cell_type": "code",
   "execution_count": 3,
   "metadata": {},
   "outputs": [
    {
     "name": "stdout",
     "output_type": "stream",
     "text": [
      "My name is Hong Gil Dong.\n",
      "I am 13 years old.\n"
     ]
    }
   ],
   "source": [
    "# 503 : 출력 - 자가진단 3\n",
    "# 아래와 같이 출력되는 프로그램을 작성하라.\n",
    "\n",
    "# My name is Hong Gil Dong.\n",
    "# I am 13 years old.\n",
    "\n",
    "print('My name is Hong Gil Dong.')\n",
    "print('I am 13 years old.')"
   ]
  },
  {
   "cell_type": "code",
   "execution_count": 4,
   "metadata": {},
   "outputs": [
    {
     "name": "stdout",
     "output_type": "stream",
     "text": [
      "(@) (@)\n",
      "(=^.^=)\n",
      "(-m-m-)\n"
     ]
    }
   ],
   "source": [
    "# 504 : 출력 - 자가진단 4\n",
    "# 다음과 같이 출력되는 프로그램을 작성하라.\n",
    "\n",
    "# (@) (@)\n",
    "# (=^.^=)\n",
    "# (-m-m-)\n",
    "\n",
    "print('(@) (@)')\n",
    "print('(=^.^=)')\n",
    "print('(-m-m-)')"
   ]
  },
  {
   "cell_type": "markdown",
   "metadata": {},
   "source": [
    "##### 입력"
   ]
  },
  {
   "cell_type": "code",
   "execution_count": 5,
   "metadata": {},
   "outputs": [
    {
     "name": "stdout",
     "output_type": "stream",
     "text": [
      "-100\n"
     ]
    }
   ],
   "source": [
    "# 509 : 입력 - 자가진단 1\n",
    "# 정수형 변수를 선언하고 -100을 대입하여 출력하는 프로그램을 작성하라.\n",
    "\n",
    "a = -100\n",
    "print(a)"
   ]
  },
  {
   "cell_type": "code",
   "execution_count": 7,
   "metadata": {},
   "outputs": [
    {
     "name": "stdout",
     "output_type": "stream",
     "text": [
      "-1\n",
      "100\n"
     ]
    }
   ],
   "source": [
    "# 510 : 입력 - 자가진단 2\n",
    "# 정수형 변수 2개를 선언하여 -1과 100을 대입한 후 아래와 같이 출력하는 프로그램을 작성하라.\n",
    "\n",
    "# -1\n",
    "# 100\n",
    "\n",
    "a = -1\n",
    "b = 100\n",
    "print(a)\n",
    "print(b)"
   ]
  },
  {
   "cell_type": "code",
   "execution_count": 10,
   "metadata": {},
   "outputs": [
    {
     "name": "stdout",
     "output_type": "stream",
     "text": [
      "55 - 10 = 45\n",
      "2008 - 1999 = 9\n"
     ]
    }
   ],
   "source": [
    "# 511 : 입력 - 자가진단 3\n",
    "# 두 개의 정수형 변수를 선언하고 값을 대입하여 아래와 같이 출력되는 프로그램을 작성하라.\n",
    "\n",
    "# 55 - 10 = 45\n",
    "# 2008 - 1999 = 9\n",
    "\n",
    "a = 55\n",
    "b = 10\n",
    "print(a, '-', b, '=', a - b)\n",
    "a = 2008\n",
    "b = 1999\n",
    "print(a, '-', b, '=', a - b)"
   ]
  },
  {
   "cell_type": "code",
   "execution_count": 17,
   "metadata": {},
   "outputs": [
    {
     "name": "stdout",
     "output_type": "stream",
     "text": [
      "49 * 0.268300 = 13.146700\n"
     ]
    }
   ],
   "source": [
    "# 512 : 입력 - 자가진단 4\n",
    "# 추의 무게를 저장할 변수와 중력의 비율을 저장할 변수를 선언하고, 다음 두 값을 변수에 저장하여 곱셈 계산식을 출력하는 프로그램을 작성하라.\n",
    "# 추의 무게 = 49, 중력의 비율 = 0.2683\n",
    "\n",
    "# 49 * 0.268300 = 13.146700\n",
    "\n",
    "a = 49\n",
    "b = 0.2683\n",
    "print(a, '*', format(b, \".6f\"), '=', format(a * b, \".6f\"))"
   ]
  },
  {
   "cell_type": "markdown",
   "metadata": {},
   "source": [
    "##### 연산자"
   ]
  },
  {
   "cell_type": "code",
   "execution_count": null,
   "metadata": {},
   "outputs": [],
   "source": [
    "# 518 : 연산자 - 자가진단 1\n",
    "# 세 개의 정수를 입력 받아서 합계와 평균을 출력하시오. (단 평균은 소수 이하를 버리고 정수부분만 출력한다.)\n",
    "import math \n",
    "\n",
    "a, b, c = input().split()\n",
    "sum = int(a) + int(b) + int(c)\n",
    "\n",
    "print('sum :', sum)\n",
    "print('avg :', math.trunc(sum/3))"
   ]
  },
  {
   "cell_type": "code",
   "execution_count": null,
   "metadata": {},
   "outputs": [],
   "source": [
    "# 519 : 연산자 - 자가진단 2\n",
    "# 정수 2개를 입력받아서 첫 번째 수에는 100을 증가시켜 저장하고 두 번째 수는 10으로 나눈 나머지를 저장한 후 두 수를 차례로 출력하는 프로그램을 작성하시오.\n",
    "\n",
    "a, b = input().split()\n",
    "print(int(a)+100, int(b)%10)"
   ]
  },
  {
   "cell_type": "code",
   "execution_count": null,
   "metadata": {},
   "outputs": [],
   "source": [
    "# 520 : 연산자 - 자가진단 3\n",
    "# 한 개의 정수를 입력 받아서 후치증가 연산자를 사용하여 출력한 후 전치 증가 연산자를 사용하여 출력하는 프로그램을 작성하시오.\n",
    "\n",
    "a = int(input())\n",
    "print(a)\n",
    "a += 2\n",
    "print(a)"
   ]
  },
  {
   "cell_type": "code",
   "execution_count": null,
   "metadata": {},
   "outputs": [],
   "source": [
    "# 521 : 연산자 - 자가진단 4\n",
    "# 두 개의 정수를 입력받아서 첫 번째 수는 후치 증가 연산자를 사용하고 \n",
    "# 두 번째 수는 전치 감소 연산자를 사용하여 두 수의 곱을 구한 후 각각의 값을 출력하는 프로그램을 작성하시오.\n",
    "\n",
    "a, b = input().split()\n",
    "a = int(a)\n",
    "b = int(b)\n",
    "b -= 1\n",
    "print(a + 1, b, a * b)"
   ]
  },
  {
   "cell_type": "markdown",
   "metadata": {},
   "source": [
    "##### 디버깅"
   ]
  },
  {
   "cell_type": "code",
   "execution_count": 18,
   "metadata": {},
   "outputs": [],
   "source": [
    "# 526 : 디버깅 - 자가진단 1\n",
    "# 2개의 실수(double)를 입력 받아서 두 수의 곱을 정수로 변환한 결과값과 두 수를 각각 정수로 변환하여 \n",
    "# 곱을 구한 결과값을 출력하는 프로그램을 작성하고 프로그램 내용에 관한 설명을 주석으로 표시하시오.\n",
    "\n",
    "a, b = input().split()\n",
    "a = float(a)\n",
    "b = float(b)\n",
    "print(int(a * b), int(a) * int(b))"
   ]
  },
  {
   "cell_type": "code",
   "execution_count": null,
   "metadata": {},
   "outputs": [],
   "source": [
    "# 527 : 디버깅 - 자가진단 2\n",
    "# 2개의 정수를 입력 받아서 첫 번째 수를 두 번째 수로 나눈 몫을 출력하고,\n",
    "# 첫 번째 수를 실수로 변환하여 두 번째 수로 나눈 값을 구한 후 반올림하여 소수 둘째 자리까지 출력하는 프로그램을 작성하고,\n",
    "# 프로그램 내용에 관한 설명을 주석으로 표시하시오.\n",
    "\n",
    "a, b = input().split()\n",
    "a = float(a)\n",
    "b = int(b)\n",
    "print(int(a//b), format(a/b, \".2f\"))"
   ]
  },
  {
   "cell_type": "code",
   "execution_count": null,
   "metadata": {},
   "outputs": [],
   "source": [
    "# 116 : 디버깅 - 형성평가 1\n",
    "# 정수로 된 3과목의 점수를 입력받아 평균을 구한 후 반올림하여 소수 첫째자리까지 출력하는 프로그램을 작성하시오.\n",
    "\n",
    "a, b, c = input().split()\n",
    "a = int(a)\n",
    "b = int(b)\n",
    "c = int(c)\n",
    "avg = (a+b+c)/3\n",
    "print(round(avg, 1))"
   ]
  },
  {
   "cell_type": "code",
   "execution_count": null,
   "metadata": {},
   "outputs": [],
   "source": [
    "# 117 : 디버깅 - 형성평가 2\n",
    "# 실수로 된 3과목의 점수를 입력받아 총점은 정수부분의 합계를 출력하고 평균은 실수의 평균을 구한 뒤 정수부분만 출력하는 프로그램을 작성하시오.\n",
    "\n",
    "a, b, c = input().split()\n",
    "a = float(a)\n",
    "b = float(b)\n",
    "c = float(c)\n",
    "avg = (a + b + c) / 3\n",
    "a = int(a)\n",
    "b = int(b)\n",
    "c = int(c)\n",
    "sum = a + b + c \n",
    "print('sum', sum)\n",
    "print('avg', int(avg))"
   ]
  },
  {
   "cell_type": "markdown",
   "metadata": {},
   "source": [
    "##### 선택제어문"
   ]
  },
  {
   "cell_type": "code",
   "execution_count": null,
   "metadata": {},
   "outputs": [],
   "source": [
    "# 528 : 선택제어문 - 자가진단 1\n",
    "# 정수를 입력받아 첫 줄에 입력 받은 숫자를 출력하고 둘째 줄에 음수이면 \"minus\" 라고 출력하는 프로그램을 작성하시오.\n",
    "\n",
    "a = int(input())\n",
    "print(a)\n",
    "if a < 0:\n",
    "    print('minus')"
   ]
  },
  {
   "cell_type": "code",
   "execution_count": null,
   "metadata": {},
   "outputs": [],
   "source": [
    "# 529 : 선택제어문 - 자가진단 2\n",
    "# \"몸무게+100-키\"를 비만수치 공식이라고 하자.\n",
    "# 키와 몸무게를 자연수로 입력받아 첫 번째 줄에 비만수치를 출력하고, \n",
    "# 비만수치가 0보다 크면 다음줄에 비만(\"Obesity\")이라는 메시지를 출력하는 프로그램을 작성하시오.\n",
    "\n",
    "a, b = input().split()\n",
    "a = int(a)\n",
    "b = int(b)\n",
    "result = b + 100 - a\n",
    "print(result)\n",
    "if result > 0:\n",
    "    print('Obesity')"
   ]
  },
  {
   "cell_type": "code",
   "execution_count": null,
   "metadata": {},
   "outputs": [],
   "source": [
    "# 530 : 선택제어문 - 자가진단 3\n",
    "# 나이를 입력받아 20살 이상이면 \"adult\"라고 출력하고 \n",
    "# 그렇지 않으면 몇 년후에 성인이 되는지를 \"o years later\"라는 메시지를 출력하는 프로그램을 작성하시오.\n",
    "\n",
    "age = int(input())\n",
    "if age >= 20:\n",
    "    print('adult')\n",
    "else:\n",
    "    print(20-age, 'years later')"
   ]
  },
  {
   "cell_type": "code",
   "execution_count": null,
   "metadata": {},
   "outputs": [],
   "source": [
    "# 531 : 선택제어문 - 자가진단 4"
   ]
  }
 ],
 "metadata": {
  "interpreter": {
   "hash": "d28945736f35f125e74e38d51a2c11f332fcba0ad043d3c75c57b7048428233a"
  },
  "kernelspec": {
   "display_name": "Python 3.10.2 64-bit",
   "language": "python",
   "name": "python3"
  },
  "language_info": {
   "codemirror_mode": {
    "name": "ipython",
    "version": 3
   },
   "file_extension": ".py",
   "mimetype": "text/x-python",
   "name": "python",
   "nbconvert_exporter": "python",
   "pygments_lexer": "ipython3",
   "version": "3.10.2"
  },
  "orig_nbformat": 4
 },
 "nbformat": 4,
 "nbformat_minor": 2
}
